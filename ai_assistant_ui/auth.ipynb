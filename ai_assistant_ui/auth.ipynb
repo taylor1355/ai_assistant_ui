{
 "cells": [
  {
   "cell_type": "code",
   "execution_count": 1,
   "metadata": {},
   "outputs": [],
   "source": [
    "%load_ext autoreload\n",
    "%autoreload 2            \n",
    "\n",
    "import pprint\n",
    "\n",
    "from npc.apis.gmail_client import GmailClient, GmailSearchOptions, GmailThread\n",
    "from npc.apis.llm_client import Model\n",
    "from npc.prompts.ai_assistant.email_action_template import EmailDestination\n",
    "from npc.simulators.ai_assistant.tools.email_briefing_generator import EmailBriefingGenerator\n",
    "from npc.simulators.ai_assistant.tools.email_summarizer import EmailSummarizer\n",
    "from npc.simulators.ai_assistant.tools.inbox_manager import InboxManager, InboxManagerShell"
   ]
  },
  {
   "cell_type": "code",
   "execution_count": 3,
   "metadata": {},
   "outputs": [
    {
     "name": "stdout",
     "output_type": "stream",
     "text": [
      "Package Room Reminders\n",
      "From: Cortland at RTP <rtp@cortland.com>\n",
      "\n",
      "Your Amazon package is out for delivery and will arrive by this evening.\n",
      "From: \"Amazon.com\" <shipment-tracking@amazon.com>\n",
      "\n",
      "A shipment from order #11707 is out for delivery\n",
      "From: \"Craggy’s Corner\" <store+68181131578@t.shopifyemail.com>\n"
     ]
    }
   ],
   "source": [
    "gmail_client = GmailClient()\n",
    "\n",
    "max_threads = 3\n",
    "unread_threads = gmail_client.retrieve_threads(\n",
    "    GmailSearchOptions(unread=True),\n",
    "    max_results=max_threads,\n",
    ")\n",
    "\n",
    "def email_str(thread: GmailThread):\n",
    "    email = gmail_client.get_latest_email(thread)\n",
    "    return f\"{email.subject}\\nFrom: {email.sender}\"\n",
    "print(\"\\n\\n\".join([email_str(email) for email in unread_threads]))"
   ]
  }
 ],
 "metadata": {
  "kernelspec": {
   "display_name": ".venv",
   "language": "python",
   "name": "python3"
  },
  "language_info": {
   "codemirror_mode": {
    "name": "ipython",
    "version": 3
   },
   "file_extension": ".py",
   "mimetype": "text/x-python",
   "name": "python",
   "nbconvert_exporter": "python",
   "pygments_lexer": "ipython3",
   "version": "3.12.3"
  }
 },
 "nbformat": 4,
 "nbformat_minor": 2
}
